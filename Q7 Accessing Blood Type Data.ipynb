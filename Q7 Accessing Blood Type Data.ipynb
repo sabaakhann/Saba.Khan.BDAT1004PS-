{
 "cells": [
  {
   "cell_type": "code",
   "execution_count": 3,
   "id": "574c9010",
   "metadata": {},
   "outputs": [
    {
     "name": "stdout",
     "output_type": "stream",
     "text": [
      "There are 13 patients of blood type AB\n",
      "There are 15 patients of blood type A\n",
      "There are 15 patients of blood type O\n",
      "There are 1 patients of blood type B\n"
     ]
    }
   ],
   "source": [
    "def bldcount(filename):\n",
    "    infile = open(filename)\n",
    "    con = infile.read()\n",
    "    infile.close()\n",
    "    word = con.split()\n",
    "    print(\"There are\",word.count('AB'),\"patients of blood type AB\")\n",
    "    print(\"There are\",word.count('A'),\"patients of blood type A\")\n",
    "    print(\"There are\",word.count('O'),\"patients of blood type O\")\n",
    "    print(\"There are\",word.count('B'),\"patients of blood type B\")\n",
    "bldcount('Bloodtype.txt')"
   ]
  },
  {
   "cell_type": "code",
   "execution_count": null,
   "id": "5cf496c3",
   "metadata": {},
   "outputs": [],
   "source": []
  }
 ],
 "metadata": {
  "kernelspec": {
   "display_name": "Python 3 (ipykernel)",
   "language": "python",
   "name": "python3"
  },
  "language_info": {
   "codemirror_mode": {
    "name": "ipython",
    "version": 3
   },
   "file_extension": ".py",
   "mimetype": "text/x-python",
   "name": "python",
   "nbconvert_exporter": "python",
   "pygments_lexer": "ipython3",
   "version": "3.9.12"
  }
 },
 "nbformat": 4,
 "nbformat_minor": 5
}
