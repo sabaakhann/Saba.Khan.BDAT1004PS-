{
 "cells": [
  {
   "cell_type": "code",
   "execution_count": 1,
   "id": "2978563b",
   "metadata": {},
   "outputs": [
    {
     "data": {
      "image/png": "[encoded data removed]",
      "text/plain": [
       "<Figure size 432x288 with 1 Axes>"
      ]
     },
     "metadata": {
      "needs_background": "light"
     },
     "output_type": "display_data"
    }
   ],
   "source": [
    "import numpy as np\n",
    "import matplotlib.pyplot as plt\n",
    "import pandas as pd\n",
    "\n",
    "# Loading data\n",
    "data = pd.read_csv('us-marriages-divorces-1867-2014.csv')\n",
    "data.head()\n",
    "\n",
    "data_bw_3_years = data[data['Year'].apply(lambda x: x in [1900, 1950, 2000])]\n",
    "marriages = data_bw_3_years['Marriages_per_1000'].values\n",
    "divorces = data_bw_3_years['Divorces_per_1000'].values\n",
    "\n",
    "X = ['1900', '1950', '2000']\n",
    "X_axis = np.arange(len(X))\n",
    "plt.bar(X_axis - 0.2, marriages, 0.4, label = 'Marriages')\n",
    "plt.bar(X_axis + 0.2, divorces, 0.4, label = 'Divorces')\n",
    "plt.xticks(X_axis, X)\n",
    "plt.xlabel(\"Years\")\n",
    "plt.ylabel(\"Values\")\n",
    "plt.legend()\n",
    " \n",
    "# Show graph\n",
    "plt.show()\n",
    "\n",
    "\n"
   ]
  },
  {
   "cell_type": "code",
   "execution_count": null,
   "id": "fb534288",
   "metadata": {},
   "outputs": [],
   "source": []
  }
 ],
 "metadata": {
  "kernelspec": {
   "display_name": "Python 3 (ipykernel)",
   "language": "python",
   "name": "python3"
  },
  "language_info": {
   "codemirror_mode": {
    "name": "ipython",
    "version": 3
   },
   "file_extension": ".py",
   "mimetype": "text/x-python",
   "name": "python",
   "nbconvert_exporter": "python",
   "pygments_lexer": "ipython3",
   "version": "3.9.12"
  }
 },
 "nbformat": 4,
 "nbformat_minor": 5
}
