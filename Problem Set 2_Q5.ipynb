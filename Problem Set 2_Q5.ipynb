{
 "cells": [
  {
   "cell_type": "code",
   "execution_count": 3,
   "id": "80e5a50d",
   "metadata": {},
   "outputs": [],
   "source": [
    "def binary(num):\n",
    "    if num == 0:\n",
    "        return '0'\n",
    "    else:\n",
    "        b = ''\n",
    "        while num > 0:\n",
    "            b = str((num % 2)) + b\n",
    "            num //= 2\n",
    "        return b"
   ]
  },
  {
   "cell_type": "code",
   "execution_count": 4,
   "id": "846e46b3",
   "metadata": {},
   "outputs": [
    {
     "name": "stdout",
     "output_type": "stream",
     "text": [
      "0\n",
      "1\n",
      "11\n",
      "1001\n"
     ]
    }
   ],
   "source": [
    "print(binary(0))\n",
    "print(binary(1))\n",
    "print(binary(3))\n",
    "print(binary(9))"
   ]
  },
  {
   "cell_type": "code",
   "execution_count": null,
   "id": "d1c0fe24",
   "metadata": {},
   "outputs": [],
   "source": []
  }
 ],
 "metadata": {
  "kernelspec": {
   "display_name": "Python 3 (ipykernel)",
   "language": "python",
   "name": "python3"
  },
  "language_info": {
   "codemirror_mode": {
    "name": "ipython",
    "version": 3
   },
   "file_extension": ".py",
   "mimetype": "text/x-python",
   "name": "python",
   "nbconvert_exporter": "python",
   "pygments_lexer": "ipython3",
   "version": "3.9.12"
  }
 },
 "nbformat": 4,
 "nbformat_minor": 5
}
