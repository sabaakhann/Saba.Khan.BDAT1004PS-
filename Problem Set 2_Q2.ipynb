{
 "cells": [
  {
   "cell_type": "code",
   "execution_count": 2,
   "id": "72222dac",
   "metadata": {},
   "outputs": [
    {
     "name": "stdout",
     "output_type": "stream",
     "text": [
      "175\n",
      "102\n",
      "File Dif.ipynb not found.\n"
     ]
    }
   ],
   "source": [
    "def fileLength(fname):\n",
    "    #reading data\n",
    "    try:\n",
    "        file=open(fname,'r')\n",
    "        #reading all lines as a list of list\n",
    "        data=file.readlines()\n",
    "        #creating a single line from all lines\n",
    "        line=\"\"\n",
    "        for i in data:\n",
    "            line+=i\n",
    "        result=len(line)\n",
    "        return result\n",
    "    except FileNotFoundError:\n",
    "        return (\"File {} not found.\".format(fname))\n",
    "\n",
    "print(fileLength('Filelength.py'))\n",
    "print(fileLength('Bloodtype.txt'))\n",
    "print(fileLength('Dif.ipynb'))"
   ]
  },
  {
   "cell_type": "code",
   "execution_count": null,
   "id": "c1fa3206",
   "metadata": {},
   "outputs": [],
   "source": []
  },
  {
   "cell_type": "code",
   "execution_count": null,
   "id": "fbaa1f89",
   "metadata": {},
   "outputs": [],
   "source": []
  }
 ],
 "metadata": {
  "kernelspec": {
   "display_name": "Python 3 (ipykernel)",
   "language": "python",
   "name": "python3"
  },
  "language_info": {
   "codemirror_mode": {
    "name": "ipython",
    "version": 3
   },
   "file_extension": ".py",
   "mimetype": "text/x-python",
   "name": "python",
   "nbconvert_exporter": "python",
   "pygments_lexer": "ipython3",
   "version": "3.9.12"
  }
 },
 "nbformat": 4,
 "nbformat_minor": 5
}
