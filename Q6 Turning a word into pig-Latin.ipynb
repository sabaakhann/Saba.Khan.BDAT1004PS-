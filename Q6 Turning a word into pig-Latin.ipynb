{
 "cells": [
  {
   "cell_type": "code",
   "execution_count": 2,
   "id": "c6ed1420",
   "metadata": {},
   "outputs": [
    {
     "name": "stdout",
     "output_type": "stream",
     "text": [
      "Enter a word to translate sabakhan\n",
      "S is a cons\n",
      "The word in Pig Latin is: abakhanSay\n"
     ]
    }
   ],
   "source": [
    "def pig(user_word):\n",
    "    ay = 'ay'\n",
    "    way = 'way'\n",
    "    cons = ('B','C','D','F','G','H','J','K','L','M','N','P','Q','R','S','T','Y','V','X','Z')\n",
    "    vow = ('A','E','I','O','U')\n",
    "    # make sure that the first letter is string and seeting up to uppercase\n",
    "    first_letter = user_word[0]\n",
    "    first_letter = str(first_letter)\n",
    "    first_letter=first_letter.upper()\n",
    "    if first_letter in cons:\n",
    "       print(first_letter,'is a cons')\n",
    "       length_of_word = len(user_word)\n",
    "       remove_first_letter = user_word[1:length_of_word]\n",
    "       pig_latin=remove_first_letter+first_letter+ay\n",
    "       print('The word in Pig Latin is:',pig_latin)\n",
    "    elif first_letter in vow:\n",
    "       print(first_letter,'is a vow')\n",
    "       pig_latin=user_word+way\n",
    "       print('The word in Pig Latin is:',pig_latin)\n",
    "    else:\n",
    "       print('I dont know what',first_letter,'is')\n",
    "word = input('Enter a word to translate ')\n",
    "pig(word)\n"
   ]
  },
  {
   "cell_type": "code",
   "execution_count": null,
   "id": "3f25193e",
   "metadata": {},
   "outputs": [],
   "source": []
  }
 ],
 "metadata": {
  "kernelspec": {
   "display_name": "Python 3 (ipykernel)",
   "language": "python",
   "name": "python3"
  },
  "language_info": {
   "codemirror_mode": {
    "name": "ipython",
    "version": 3
   },
   "file_extension": ".py",
   "mimetype": "text/x-python",
   "name": "python",
   "nbconvert_exporter": "python",
   "pygments_lexer": "ipython3",
   "version": "3.9.12"
  }
 },
 "nbformat": 4,
 "nbformat_minor": 5
}
