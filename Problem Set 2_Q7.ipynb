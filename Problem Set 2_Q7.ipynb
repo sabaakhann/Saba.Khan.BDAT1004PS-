{
 "cells": [
  {
   "cell_type": "code",
   "execution_count": 2,
   "id": "c9e1ddcb",
   "metadata": {},
   "outputs": [
    {
     "name": "stdout",
     "output_type": "stream",
     "text": [
      "https://stackoverflow.com/nocaptcha?s=e95616b8-5c3a-457e-b3e6-9dfb65ce27a7\n",
      "https://stackoverflow.com/legal/cookie-policy\n"
     ]
    }
   ],
   "source": [
    "import requests\n",
    "from bs4 import BeautifulSoup\n",
    "\n",
    "\n",
    "def webdir(url, depth, indent):\n",
    "    resp = requests.get(url)\n",
    "    print(url)\n",
    "    if(depth == indent):\n",
    "        return\n",
    "    soup = BeautifulSoup(resp.text, 'html.parser')\n",
    "    for link in soup.findAll('a'):\n",
    "        new_link = link.get('href')\n",
    "    if(new_link.startswith('http')):\n",
    "        webdir(new_link, depth, indent+1)\n",
    "webdir(\"https://stackoverflow.com/nocaptcha?s=e95616b8-5c3a-457e-b3e6-9dfb65ce27a7\", 1, 0)"
   ]
  },
  {
   "cell_type": "code",
   "execution_count": null,
   "id": "9f967005",
   "metadata": {},
   "outputs": [],
   "source": []
  }
 ],
 "metadata": {
  "kernelspec": {
   "display_name": "Python 3 (ipykernel)",
   "language": "python",
   "name": "python3"
  },
  "language_info": {
   "codemirror_mode": {
    "name": "ipython",
    "version": 3
   },
   "file_extension": ".py",
   "mimetype": "text/x-python",
   "name": "python",
   "nbconvert_exporter": "python",
   "pygments_lexer": "ipython3",
   "version": "3.9.12"
  }
 },
 "nbformat": 4,
 "nbformat_minor": 5
}
