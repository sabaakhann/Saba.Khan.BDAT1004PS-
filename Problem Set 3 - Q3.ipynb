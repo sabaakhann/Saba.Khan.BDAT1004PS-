{
 "cells": [
  {
   "cell_type": "code",
   "execution_count": 1,
   "id": "c56efc6b",
   "metadata": {},
   "outputs": [
    {
     "data": {
      "text/plain": [
       "0          3\n",
       "1          4\n",
       "2          2\n",
       "3          3\n",
       "4          3\n",
       "       ...  \n",
       "295    29088\n",
       "296    17743\n",
       "297    10445\n",
       "298    21697\n",
       "299    23821\n",
       "Length: 300, dtype: int32"
      ]
     },
     "execution_count": 1,
     "metadata": {},
     "output_type": "execute_result"
    }
   ],
   "source": [
    "import random\n",
    "import pandas as pd\n",
    "import numpy as np\n",
    "\n",
    "# First Series\n",
    "series1 = pd.Series(np.random.randint(1,5,100))\n",
    "series1\n",
    "\n",
    "# Second Series\n",
    "series2 = pd.Series(np.random.randint(1,4,100))\n",
    "series2\n",
    "\n",
    "# Third Series\n",
    "series3 = pd.Series(np.random.randint(10000,30000,100))\n",
    "series3\n",
    "\n",
    "# Joining all series by column and creating data frame\n",
    "dataFrame1 = pd.concat([series1, series2, series3], axis = 1)\n",
    "dataFrame1\n",
    "\n",
    "# Changing names of the columns\n",
    "dataFrame1.columns = ['bedrs','bathrs','price_sqr_meter']\n",
    "dataFrame1\n",
    "\n",
    "\n",
    "bigcolumn = pd.concat([series1, series2, series3], axis = 0)\n",
    "bigcolumn\n",
    "\n",
    "\n",
    "# Calculating total\n",
    "len(bigcolumn) # True\n",
    "\n",
    "bigcolumn.index = range(0, 300)\n",
    "bigcolumn\n",
    "\n"
   ]
  },
  {
   "cell_type": "code",
   "execution_count": null,
   "id": "c53cfe14",
   "metadata": {},
   "outputs": [],
   "source": []
  }
 ],
 "metadata": {
  "kernelspec": {
   "display_name": "Python 3 (ipykernel)",
   "language": "python",
   "name": "python3"
  },
  "language_info": {
   "codemirror_mode": {
    "name": "ipython",
    "version": 3
   },
   "file_extension": ".py",
   "mimetype": "text/x-python",
   "name": "python",
   "nbconvert_exporter": "python",
   "pygments_lexer": "ipython3",
   "version": "3.9.12"
  }
 },
 "nbformat": 4,
 "nbformat_minor": 5
}
