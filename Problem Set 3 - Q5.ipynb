{
 "cells": [
  {
   "cell_type": "code",
   "execution_count": 1,
   "id": "fe8cf878",
   "metadata": {},
   "outputs": [
    {
     "data": {
      "text/plain": [
       "50"
      ]
     },
     "execution_count": 1,
     "metadata": {},
     "output_type": "execute_result"
    }
   ],
   "source": [
    "import pandas as pd\n",
    "\n",
    "# Reading dataset and printing first 10 values\n",
    "link = \"https://raw.githubusercontent.com/justmarkham/DAT8/master/data/chipotle.tsv\"\n",
    "chipo = pd.read_csv(link, sep = \"\\t\")\n",
    "chipo[0:10]\n",
    "\n",
    "# No of observations\n",
    "len(chipo)\n",
    "\n",
    "# No of columns\n",
    "len(chipo.columns)\n",
    "\n",
    "# Names of columns\n",
    "chipo.columns\n",
    "\n",
    "# Index\n",
    "chipo.index\n",
    "\n",
    "# Grouping by item name, then sum each item orders, arranging descending and getting topmost index for its name\n",
    "chipo.groupby('item_name').sum().sort_values(['quantity'], ascending=False).index[0]\n",
    "\n",
    "# Grouping by item name, then sum each item orders, arranging descending and getting topmost\n",
    "chipo.groupby('item_name').sum().sort_values(['quantity'], ascending=False).head(1)\n",
    "\n",
    "# Grouping by choice description, then sum each item orders, arranging descending and getting topmost index for its name\n",
    "chipo.groupby(['choice_description']).quantity.sum().sort_values(ascending = False).index[0]\n",
    "\n",
    "# Total items\n",
    "chipo.quantity.sum()\n",
    "\n",
    "# Function for converting to float\n",
    "def convert_to_float(num):\n",
    "   return float(num[1:-1])\n",
    "\n",
    "#Checking type\n",
    "chipo.dtypes.item_price\n",
    "\n",
    "# Creating lambda function and applying to item prices and dispalying\n",
    "chipo.item_price = chipo.item_price.apply(lambda x: float(x[1:]))\n",
    "chipo.item_price\n",
    "\n",
    "# Checking type\n",
    "chipo.dtypes.item_price\n",
    "\n",
    "# Calculating revenue by item by multiplying quantity by price than summing up total revenue\n",
    "chipo['revenuebyItem'] = chipo['quantity']*chipo.item_price\n",
    "totalReveneue = chipo.revenuebyItem.sum()\n",
    "totalReveneue\n",
    "\n",
    "# Gettng unique orders\n",
    "totalOrders = chipo.order_id.nunique()\n",
    "\n",
    "# Mean Revenue\n",
    "chipo.groupby(by=['order_id']).sum().mean()['revenuebyItem']\n",
    "\n",
    "# Counting unique items sold\n",
    "chipo.item_name.nunique()\n",
    "\n"
   ]
  },
  {
   "cell_type": "code",
   "execution_count": null,
   "id": "ab983c1c",
   "metadata": {},
   "outputs": [],
   "source": []
  }
 ],
 "metadata": {
  "kernelspec": {
   "display_name": "Python 3 (ipykernel)",
   "language": "python",
   "name": "python3"
  },
  "language_info": {
   "codemirror_mode": {
    "name": "ipython",
    "version": 3
   },
   "file_extension": ".py",
   "mimetype": "text/x-python",
   "name": "python",
   "nbconvert_exporter": "python",
   "pygments_lexer": "ipython3",
   "version": "3.9.12"
  }
 },
 "nbformat": 4,
 "nbformat_minor": 5
}
