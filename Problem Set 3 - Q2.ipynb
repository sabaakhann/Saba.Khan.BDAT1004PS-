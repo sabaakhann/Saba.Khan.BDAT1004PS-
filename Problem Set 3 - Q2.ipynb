{
 "cells": [
  {
   "cell_type": "code",
   "execution_count": 1,
   "id": "ffa58ad6",
   "metadata": {},
   "outputs": [
    {
     "data": {
      "text/plain": [
       "7.4375"
      ]
     },
     "execution_count": 1,
     "metadata": {},
     "output_type": "execute_result"
    }
   ],
   "source": [
    "import pandas as pd\n",
    "import numpy as np\n",
    "\n",
    "# Reading dataset and printing head\n",
    "euro12 = pd.read_csv('https://raw.githubusercontent.com/guipsamora/pandas_exercises/master/02_Filtering_%26_Sorting/Euro12/Euro_2012_stats_TEAM.csv', sep = \",\")\n",
    "euro12.head()\n",
    "\n",
    "# Only Goal Column\n",
    "euro12.Goals\n",
    "\n",
    "\n",
    "# Getting unique teams\n",
    "euro12.Team.nunique()\n",
    "\n",
    "# Number of columns\n",
    "len(euro12.columns)\n",
    "\n",
    "# Dataframe called discipline\n",
    "discipline = euro12[['Team', 'Yellow Cards', 'Red Cards']]\n",
    "discipline\n",
    "\n",
    "# Sorting first by red cards then by yellow cards\n",
    "sortRed = discipline.sort_values(by='Red Cards')\n",
    "sortRed\n",
    "sortYellow = discipline.sort_values(by='Yellow Cards')\n",
    "sortYellow\n",
    "discipline['Yellow Cards'].mean()\n"
   ]
  },
  {
   "cell_type": "code",
   "execution_count": null,
   "id": "a8282435",
   "metadata": {},
   "outputs": [],
   "source": []
  }
 ],
 "metadata": {
  "kernelspec": {
   "display_name": "Python 3 (ipykernel)",
   "language": "python",
   "name": "python3"
  },
  "language_info": {
   "codemirror_mode": {
    "name": "ipython",
    "version": 3
   },
   "file_extension": ".py",
   "mimetype": "text/x-python",
   "name": "python",
   "nbconvert_exporter": "python",
   "pygments_lexer": "ipython3",
   "version": "3.9.12"
  }
 },
 "nbformat": 4,
 "nbformat_minor": 5
}
